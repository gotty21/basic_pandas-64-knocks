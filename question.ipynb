{
 "cells": [
  {
   "cell_type": "markdown",
   "metadata": {
    "id": "mNa17-T31w9t"
   },
   "source": [
    "# 初めに"
   ]
  },
  {
   "cell_type": "markdown",
   "metadata": {
    "id": "8nZ_T1DU1wz4"
   },
   "source": [
    "【日付】2021/10/18\n",
    "問題はどこから解いてもエラーはでないようになっている(はずです)。<br>\n",
    "問題にはすべて見出しがついており、辞書のように逆引きでの使用もできます。"
   ]
  },
  {
   "cell_type": "markdown",
   "metadata": {
    "id": "6oZo8Qnj0jml"
   },
   "source": [
    "問題で使用するデータセットは以下を参考に一部加工を加えたものです。<br>\n",
    "・Kaggle Home Credit Default Risk<br> \n",
    "URL: https://www.kaggle.com/c/home-credit-default-risk<br><br>\n",
    "・UCI machine learning repository No.352<br>\n",
    "URL: http://archive.ics.uci.edu/ml/machine-learning-databases/00352/Online%20Retail.xlsx"
   ]
  },
  {
   "cell_type": "markdown",
   "metadata": {
    "id": "XNKXAlFg0WaR"
   },
   "source": [
    "# 事前準備\n",
    "以下の1つ目と2つ目のセルは必要な場合事前に実行してください。<br>\n",
    "3つ目のセルはDataFrameを初期化する関数です。ノックを始める前に実行しておいてください。"
   ]
  },
  {
   "cell_type": "code",
   "execution_count": null,
   "metadata": {
    "id": "IQexZsSm1wG2"
   },
   "outputs": [],
   "source": [
    "# Google Drive上にアップロードし、Colabで本コードを使用する場合はDriveをマウントする\n",
    "from google.colab import drive\n",
    "drive.mount('/content/drive')"
   ]
  },
  {
   "cell_type": "code",
   "execution_count": null,
   "metadata": {
    "id": "OR1c1-VX14Hm"
   },
   "outputs": [],
   "source": [
    "# カレントディレクトリを本コードの置いてあるディレクトリに指定\n",
    "%cd /content/drive/MyDrive/project/basic_pandas-x-knocks/"
   ]
  },
  {
   "cell_type": "code",
   "execution_count": null,
   "metadata": {
    "id": "tH7No5-U2CI7"
   },
   "outputs": [],
   "source": [
    "import pandas as pd\n",
    "def initialize(flag=0):\n",
    "    if flag==0: return pd.read_csv('./data/main.csv')\n",
    "    elif flag==1: return pd.read_csv('./data/add.csv')\n",
    "    elif flag==2: return pd.read_excel('./data/data.xlsx')"
   ]
  },
  {
   "cell_type": "markdown",
   "metadata": {
    "id": "p_Uycu132Nah"
   },
   "source": [
    "# データの読み込み・確認"
   ]
  },
  {
   "cell_type": "markdown",
   "metadata": {
    "id": "XN_oBobB2VKp"
   },
   "source": [
    "### pandasインポート"
   ]
  },
  {
   "cell_type": "code",
   "execution_count": null,
   "metadata": {
    "id": "FiJ4ipYB2bQJ"
   },
   "outputs": [],
   "source": [
    "# pandasをpdという名でインポート\n"
   ]
  },
  {
   "cell_type": "markdown",
   "metadata": {
    "id": "ljSPEYn52boO"
   },
   "source": [
    "### pandasのversion確認"
   ]
  },
  {
   "cell_type": "code",
   "execution_count": null,
   "metadata": {
    "collapsed": true,
    "id": "Qr6PKGd32fPV"
   },
   "outputs": [],
   "source": [
    "# インストールしているpandasのバージョンを確認\n"
   ]
  },
  {
   "cell_type": "markdown",
   "metadata": {
    "id": "-AjYQc1K2mDq"
   },
   "source": [
    "### csvファイルの読み込み"
   ]
  },
  {
   "cell_type": "code",
   "execution_count": null,
   "metadata": {
    "id": "r9WQ41zf2pI9"
   },
   "outputs": [],
   "source": [
    "# dataディレクトリ内のmain.csv読み込んでデータフレームを作成し、dfという変数に格納\n",
    "\n",
    "\n",
    "# dataディレクトリ内のadd.csv読み込んでデータフレームを作成し、addという変数に格納\n"
   ]
  },
  {
   "cell_type": "markdown",
   "metadata": {
    "id": "CgucmDnU2zWl"
   },
   "source": [
    "### excelファイルの読み込み"
   ]
  },
  {
   "cell_type": "code",
   "execution_count": null,
   "metadata": {
    "id": "DOABP34r21eo"
   },
   "outputs": [],
   "source": [
    "# dataディレクトリ内のdata.xlsx読み込んでデータフレームを作成し、df_aという変数に格納\n",
    "# 読み込みの際に、事前に型を以下のように指定する\n",
    "\"\"\"\n",
    "    'InvoiceNo':   'object',\n",
    "    'StockCode':   'object',\n",
    "    'Description': 'object',\n",
    "    'Quantity':    'int8',\n",
    "    'InvoiceDate': 'object',\n",
    "    'UnitPrice':   'float16',\n",
    "    'CustomerID':  'object',\n",
    "    'Country':     'object'\n",
    "\"\"\"\n"
   ]
  },
  {
   "cell_type": "markdown",
   "metadata": {
    "id": "pIHxHrOx24V1"
   },
   "source": [
    "### 先頭行の出力"
   ]
  },
  {
   "cell_type": "code",
   "execution_count": null,
   "metadata": {
    "id": "8_GwdMD42-PM"
   },
   "outputs": [],
   "source": [
    "# dfの先頭3行を表示\n",
    "df = initialize(0)  # 初期化\n",
    "\n"
   ]
  },
  {
   "cell_type": "markdown",
   "metadata": {
    "id": "nKtFhU6-2-r5"
   },
   "source": [
    "### 末尾行の出力"
   ]
  },
  {
   "cell_type": "code",
   "execution_count": null,
   "metadata": {
    "id": "G-iqHxk83Ed4"
   },
   "outputs": [],
   "source": [
    "# dfの末尾から3行を表示\n",
    "df = initialize(0)  # 初期化\n",
    "\n"
   ]
  },
  {
   "cell_type": "markdown",
   "metadata": {
    "id": "rPzznneR3E3R"
   },
   "source": [
    "### データポイントをランダムにサンプリングして出力"
   ]
  },
  {
   "cell_type": "code",
   "execution_count": null,
   "metadata": {
    "id": "_AkgxGiP3JQd"
   },
   "outputs": [],
   "source": [
    "# dfからランダムに7行出力\n",
    "df = initialize(0)  # 初期化\n",
    "\n"
   ]
  },
  {
   "cell_type": "markdown",
   "metadata": {
    "id": "_iMZlnyeRh3w"
   },
   "source": [
    "### DataFrameのサイズ確認"
   ]
  },
  {
   "cell_type": "code",
   "execution_count": null,
   "metadata": {
    "id": "BRVViL6dRmSn"
   },
   "outputs": [],
   "source": [
    "# dfのサイズを表示\n",
    "df = initialize(0)  # 初期化\n",
    "\n"
   ]
  },
  {
   "cell_type": "markdown",
   "metadata": {
    "id": "p756_777S2X-"
   },
   "source": [
    "### DaraFrameのレコード数確認"
   ]
  },
  {
   "cell_type": "code",
   "execution_count": null,
   "metadata": {
    "id": "_eGuMCOGS7je"
   },
   "outputs": [],
   "source": [
    "# dfのレコード数を出力\n",
    "df = initialize(0)  # 初期化\n",
    "\n"
   ]
  },
  {
   "cell_type": "markdown",
   "metadata": {
    "id": "Pp9PG8PNTCq_"
   },
   "source": [
    "### DataFrame内のレコード数、各列のデータ型、欠損値の有無を確認"
   ]
  },
  {
   "cell_type": "code",
   "execution_count": null,
   "metadata": {
    "id": "B2ElAYdQTJlJ"
   },
   "outputs": [],
   "source": [
    "# dfのカラムのデータ型と欠損値でない値の総数、メモリ使用量をすべて出力\n",
    "df = initialize(0)  # 初期化\n",
    "\n"
   ]
  },
  {
   "cell_type": "markdown",
   "metadata": {
    "id": "DftDTTPnVaUl"
   },
   "source": [
    "# Label"
   ]
  },
  {
   "cell_type": "markdown",
   "metadata": {
    "id": "BCQJloOeVebf"
   },
   "source": [
    "### DataFrameの列名の取得"
   ]
  },
  {
   "cell_type": "code",
   "execution_count": null,
   "metadata": {
    "id": "vzayZqafVkx8"
   },
   "outputs": [],
   "source": [
    "# dfのcolumn名をlist形式で取得\n",
    "df = initialize(0)  # 初期化\n",
    "\n"
   ]
  },
  {
   "cell_type": "markdown",
   "metadata": {
    "id": "QCs4bvyYVm_f"
   },
   "source": [
    "### DataFrameのindex名の取得"
   ]
  },
  {
   "cell_type": "code",
   "execution_count": null,
   "metadata": {
    "id": "mlkozhWBVtR6"
   },
   "outputs": [],
   "source": [
    "# dfのindex名一覧をndarray形式で取得\n",
    "df = initialize(0)  # 初期化\n",
    "\n"
   ]
  },
  {
   "cell_type": "markdown",
   "metadata": {
    "id": "CRiv4Ydhd4i_"
   },
   "source": [
    "### column名をすべて変更"
   ]
  },
  {
   "cell_type": "code",
   "execution_count": null,
   "metadata": {
    "id": "R9TY_vtReA4Z"
   },
   "outputs": [],
   "source": [
    "# column名をno1～no11というstr型の名前にすべて変更する\n",
    "# ヒント：リスト内包表記を使用すると簡単\n",
    "df = initialize(0)  # 初期化\n",
    "\n"
   ]
  },
  {
   "cell_type": "markdown",
   "metadata": {
    "id": "Uw6Nzyt5g56B"
   },
   "source": [
    "### column名の一部変更"
   ]
  },
  {
   "cell_type": "code",
   "execution_count": null,
   "metadata": {
    "id": "mWLlyO-5fkLb"
   },
   "outputs": [],
   "source": [
    "# カラム名CODE_GENDERをGENDERに変更する\n",
    "df = initialize(0)  # 初期化\n",
    "\n"
   ]
  },
  {
   "cell_type": "markdown",
   "metadata": {
    "id": "5JW05LEPU6om"
   },
   "source": [
    "# データ型"
   ]
  },
  {
   "cell_type": "markdown",
   "metadata": {
    "id": "mzug8UFhVF1w"
   },
   "source": [
    "### 任意の列のデータ型を確認"
   ]
  },
  {
   "cell_type": "code",
   "execution_count": null,
   "metadata": {
    "id": "QWQgqyUQVF1x"
   },
   "outputs": [],
   "source": [
    "# dfのAMT_INCOME_TOTAL列のデータ型を出力\n",
    "df = initialize(0)  # 初期化\n",
    "\n"
   ]
  },
  {
   "cell_type": "markdown",
   "metadata": {
    "id": "sAkCzy-VVF10"
   },
   "source": [
    "### 複数列のデータ型を確認"
   ]
  },
  {
   "cell_type": "code",
   "execution_count": null,
   "metadata": {
    "id": "yIXYv5UPVF10"
   },
   "outputs": [],
   "source": [
    "# dfのAMT_INCOME_TOTAL列とFLAG_OWN_CAR列のデータ型を出力\n",
    "df = initialize(0)  # 初期化\n",
    "\n"
   ]
  },
  {
   "cell_type": "markdown",
   "metadata": {
    "id": "hy4kZKodZcTx"
   },
   "source": [
    "### 任意のデータ型の列のみ抽出"
   ]
  },
  {
   "cell_type": "code",
   "execution_count": null,
   "metadata": {
    "id": "j8uF0JX9ZhVY"
   },
   "outputs": [],
   "source": [
    "# 文字列型(object型)の列のみ表示\n",
    "df = initialize(0)  # 初期化\n",
    "\n"
   ]
  },
  {
   "cell_type": "markdown",
   "metadata": {
    "id": "HQHElMS6VMRC"
   },
   "source": [
    "### データ型を変換"
   ]
  },
  {
   "cell_type": "code",
   "execution_count": null,
   "metadata": {
    "id": "gRXaFHoMVQ_F"
   },
   "outputs": [],
   "source": [
    "# dfのFLAG_MOBIL列のデータ型を文字型に変換する\n",
    "df = initialize(0)  # 初期化\n",
    "\n"
   ]
  },
  {
   "cell_type": "markdown",
   "metadata": {
    "id": "yL5zf6P0ZByI"
   },
   "source": [
    "# 各columnのデータの確認"
   ]
  },
  {
   "cell_type": "markdown",
   "metadata": {
    "id": "WvlEwvV9SsaR"
   },
   "source": [
    "### 任意の列のユニーク(一意)な要素を確認"
   ]
  },
  {
   "cell_type": "code",
   "execution_count": null,
   "metadata": {
    "id": "njw102QHTR31"
   },
   "outputs": [],
   "source": [
    "# dfのCODE_GENDER列のユニークな要素を確認\n",
    "df = initialize(0)  # 初期化\n",
    "\n"
   ]
  },
  {
   "cell_type": "markdown",
   "metadata": {
    "id": "-DYUDv2uZqvg"
   },
   "source": [
    "### 各列のユニークな要素の数を確認"
   ]
  },
  {
   "cell_type": "code",
   "execution_count": null,
   "metadata": {
    "id": "xiBg0-eEZvOJ"
   },
   "outputs": [],
   "source": [
    "# dfの各列のユニークな要素の数を出力\n",
    "df = initialize(0)  # 初期化\n",
    "\n"
   ]
  },
  {
   "cell_type": "markdown",
   "metadata": {
    "id": "4gRz69GnZ36j"
   },
   "source": [
    "### 任意の列のユニークな要素の数とその出現回数を確認"
   ]
  },
  {
   "cell_type": "code",
   "execution_count": null,
   "metadata": {
    "id": "Mk-U9pxUZ8S7"
   },
   "outputs": [],
   "source": [
    "# dfのCNT_CHILDREN列の要素と出現回数の確認\n",
    "df = initialize(0)  # 初期化\n",
    "\n"
   ]
  },
  {
   "cell_type": "markdown",
   "metadata": {
    "id": "UGCf_hBHSU3N"
   },
   "source": [
    "# データの取り出し"
   ]
  },
  {
   "cell_type": "markdown",
   "metadata": {
    "id": "u_z-YnP0WF0_"
   },
   "source": [
    "### 任意の１つの列の取り出し"
   ]
  },
  {
   "cell_type": "code",
   "execution_count": null,
   "metadata": {
    "id": "X88aWWMEWOMC"
   },
   "outputs": [],
   "source": [
    "# dfのTARGETの列のみ表示\n",
    "df = initialize(0)  # 初期化\n",
    "\n"
   ]
  },
  {
   "cell_type": "code",
   "execution_count": null,
   "metadata": {
    "id": "2sVmq83xWVJC"
   },
   "outputs": [],
   "source": [
    "# dfの左から3番目の列のみ表示\n",
    "df = initialize(0)  # 初期化\n",
    "\n"
   ]
  },
  {
   "cell_type": "markdown",
   "metadata": {
    "id": "1vSuZpoVWbpZ"
   },
   "source": [
    "### 複数の列の表示"
   ]
  },
  {
   "cell_type": "code",
   "execution_count": null,
   "metadata": {
    "id": "5EsGiMveWe9m"
   },
   "outputs": [],
   "source": [
    "# dfのTARGET列とCODE_GENDER列のみ表示\n",
    "df = initialize(0)  # 初期化\n",
    "\n"
   ]
  },
  {
   "cell_type": "code",
   "execution_count": null,
   "metadata": {
    "id": "oECveTotqbMc"
   },
   "outputs": [],
   "source": [
    "# dfのTARGET列とCODE_GENDER列までの列を表示\n",
    "df = initialize(0)  # 初期化\n",
    "\n"
   ]
  },
  {
   "cell_type": "code",
   "execution_count": null,
   "metadata": {
    "id": "b92yvoyIWlD4"
   },
   "outputs": [],
   "source": [
    "# dfの3列目と8列目のみ表示\n",
    "df = initialize(0)  # 初期化\n",
    "\n"
   ]
  },
  {
   "cell_type": "code",
   "execution_count": null,
   "metadata": {
    "id": "Hg05xofkqjIZ"
   },
   "outputs": [],
   "source": [
    "# dfの2列目から5列までの列を表示\n",
    "df = initialize(0)  # 初期化\n",
    "\n"
   ]
  },
  {
   "cell_type": "markdown",
   "metadata": {
    "id": "vtRJlK-vWyWI"
   },
   "source": [
    "### 任意の１つのデータポイントの取り出し"
   ]
  },
  {
   "cell_type": "code",
   "execution_count": null,
   "metadata": {
    "id": "qhWPcbalXlHU"
   },
   "outputs": [],
   "source": [
    "# dfの上から4番目のデータポイントを表示\n",
    "df = initialize(0)  # 初期化\n",
    "\n"
   ]
  },
  {
   "cell_type": "markdown",
   "metadata": {
    "id": "3i6JVjlGXq6y"
   },
   "source": [
    "### 複数のデータポイントの取り出し"
   ]
  },
  {
   "cell_type": "code",
   "execution_count": null,
   "metadata": {
    "id": "aUL5_2JHXufv"
   },
   "outputs": [],
   "source": [
    "# dfのAMT_INCOME_TOTAL列のindexが3から10まで表示\n",
    "df = initialize(0)  # 初期化\n",
    "\n"
   ]
  },
  {
   "cell_type": "code",
   "execution_count": null,
   "metadata": {
    "id": "jWmQlGNdX4CP"
   },
   "outputs": [],
   "source": [
    "# dfの7列目のindexが3から10まで表示\n",
    "df = initialize(0)  # 初期化\n",
    "\n"
   ]
  },
  {
   "cell_type": "markdown",
   "metadata": {
    "id": "Z64c8UucZIdR"
   },
   "source": [
    "### 条件検索"
   ]
  },
  {
   "cell_type": "code",
   "execution_count": null,
   "metadata": {
    "id": "kJr1_BWmZLAY"
   },
   "outputs": [],
   "source": [
    "# CODE_GENDER列が'F'かつAMT_INCOME_TOTAL列が500000以上のデータポイントを表示\n",
    "df = initialize(0)  # 初期化\n",
    "\n"
   ]
  },
  {
   "cell_type": "markdown",
   "metadata": {
    "id": "-sMdlBnvTTBG"
   },
   "source": [
    "# DataFrameの操作"
   ]
  },
  {
   "cell_type": "markdown",
   "metadata": {
    "id": "A5N82KJ0TveJ"
   },
   "source": [
    "### DataFrameのコピーを作成"
   ]
  },
  {
   "cell_type": "code",
   "execution_count": null,
   "metadata": {
    "id": "YIBEK9HuUSGR"
   },
   "outputs": [],
   "source": [
    "# dfのコピーをdf_copyに格納し、df_copyの先頭5行を表示\n",
    "df = initialize(0)  # 初期化\n",
    "\n"
   ]
  },
  {
   "cell_type": "markdown",
   "metadata": {
    "id": "E6QVF9Gda4tR"
   },
   "source": [
    "### 特定の場所にデータを代入"
   ]
  },
  {
   "cell_type": "code",
   "execution_count": null,
   "metadata": {
    "id": "03oWcsFba_Ae"
   },
   "outputs": [],
   "source": [
    "# dfのTARGET列のindex3に40を代入(locを使用)し、先頭5行を表示\n",
    "df = initialize(0)  # 初期化\n",
    "\n"
   ]
  },
  {
   "cell_type": "code",
   "execution_count": null,
   "metadata": {
    "id": "11lup_KtrY0q"
   },
   "outputs": [],
   "source": [
    "# dfのTARGET列のindex3に20を代入(ilocを使用)し、先頭5列を表示\n",
    "df = initialize(0)  # 初期化\n",
    "\n"
   ]
  },
  {
   "cell_type": "markdown",
   "metadata": {
    "id": "Lnhr1mRgbp5B"
   },
   "source": [
    "### データの置き換え"
   ]
  },
  {
   "cell_type": "code",
   "execution_count": null,
   "metadata": {
    "id": "HQeuMP7tbsJ3"
   },
   "outputs": [],
   "source": [
    "# CODE_GENDER列のMを0に、Fを1に置き換え先頭5列を表示\n",
    "df = initialize(0)  # 初期化\n",
    "\n"
   ]
  },
  {
   "cell_type": "markdown",
   "metadata": {
    "id": "xhNOcOqZcAVe"
   },
   "source": [
    "### 小数点以下を丸める"
   ]
  },
  {
   "cell_type": "code",
   "execution_count": null,
   "metadata": {
    "id": "Ju328HM_cDQX"
   },
   "outputs": [],
   "source": [
    "# REGION_POPULATION_RELATIVE列の数値の小数点以下3桁に丸める\n",
    "df = initialize(0)  # 初期化\n",
    "\n"
   ]
  },
  {
   "cell_type": "markdown",
   "metadata": {
    "id": "88um1LLpcLMd"
   },
   "source": [
    "### columnを追加"
   ]
  },
  {
   "cell_type": "code",
   "execution_count": null,
   "metadata": {
    "id": "ZivRWVgHcN0g"
   },
   "outputs": [],
   "source": [
    "# dfに要素がすべて1のTESTという列を追加する\n",
    "df = initialize(0)  # 初期化\n",
    "\n"
   ]
  },
  {
   "cell_type": "markdown",
   "metadata": {
    "id": "8CTSjs7rcVlv"
   },
   "source": [
    "### カラムを文字列としての結合"
   ]
  },
  {
   "cell_type": "code",
   "execution_count": null,
   "metadata": {
    "id": "kAbIoyXbcekw"
   },
   "outputs": [],
   "source": [
    "# dfのTEST列にCODE_GENDER列の値とTARGET列の値の間に'_'を入れた文字列を代入する\n",
    "# 例) M_1\n",
    "df = initialize(0)  # 初期化\n",
    "\n"
   ]
  },
  {
   "cell_type": "markdown",
   "metadata": {
    "id": "My7YpgiplFWL"
   },
   "source": [
    "### 行列の入れ替え"
   ]
  },
  {
   "cell_type": "code",
   "execution_count": null,
   "metadata": {
    "id": "RkXSkoRUlJV6"
   },
   "outputs": [],
   "source": [
    "# dfの行と列を入れ替えてdf_tmpという変数に格納する\n",
    "df = initialize(0)  # 初期化\n",
    "\n"
   ]
  },
  {
   "cell_type": "markdown",
   "metadata": {
    "id": "gu0zoetCsG3z"
   },
   "source": [
    "### One-Hot-Encording"
   ]
  },
  {
   "cell_type": "code",
   "execution_count": null,
   "metadata": {
    "id": "IjxRRFyxsJ0t"
   },
   "outputs": [],
   "source": [
    "# CODE_GENDER列をOne-Hot-Encordingしたものにdfを更新し、先頭5行を表示\n",
    "df = initialize(0)  # 初期化\n",
    "\n"
   ]
  },
  {
   "cell_type": "markdown",
   "metadata": {
    "id": "LnABr0TF_H7_"
   },
   "source": [
    "### ラムダ式による列要素毎の処理"
   ]
  },
  {
   "cell_type": "code",
   "execution_count": null,
   "metadata": {
    "id": "fwyvQhbk_NN-"
   },
   "outputs": [],
   "source": [
    "# dfのAMT_INCOME_TOTAL列の各要素の対数を取り、dfのLOG_AMT_INCOME_TOTALに代入し先頭3列を出力\n",
    "# 対数の計算にはnp.log(x+1)を使用する(log(0)は定義できないため)\n",
    "df = initialize(0)  # 初期化\n",
    "import numpy as np\n",
    "\n"
   ]
  },
  {
   "cell_type": "markdown",
   "metadata": {
    "id": "EPQ8hUO-COt7"
   },
   "source": [
    "### 値のシフト"
   ]
  },
  {
   "cell_type": "code",
   "execution_count": null,
   "metadata": {
    "id": "KXkTpwMECUeY"
   },
   "outputs": [],
   "source": [
    "# dfのSK_ID_CURRの要素を一つずつ上にずらしてSK_ID_CURR列に代入する\n",
    "df = initialize(0)  # 初期化\n",
    "\n"
   ]
  },
  {
   "cell_type": "markdown",
   "metadata": {
    "id": "Qstt7Wg-cy9N"
   },
   "source": [
    "# 削除"
   ]
  },
  {
   "cell_type": "markdown",
   "metadata": {
    "id": "nbeXV8ngc0P2"
   },
   "source": [
    "### 列の削除"
   ]
  },
  {
   "cell_type": "code",
   "execution_count": null,
   "metadata": {
    "id": "-irgyu-tc4QD"
   },
   "outputs": [],
   "source": [
    "# dfのCODE_GENDER列を削除\n",
    "df = initialize(0)  # 初期化\n",
    "\n"
   ]
  },
  {
   "cell_type": "markdown",
   "metadata": {
    "id": "JzJ5v1y2c_oF"
   },
   "source": [
    "### 行の削除"
   ]
  },
  {
   "cell_type": "code",
   "execution_count": null,
   "metadata": {
    "id": "6MWPstjxdD18"
   },
   "outputs": [],
   "source": [
    "# dfの3行目を削除\n",
    "df = initialize(0)  # 初期化\n",
    "\n"
   ]
  },
  {
   "cell_type": "markdown",
   "metadata": {
    "id": "XnrrAlDtTyeE"
   },
   "source": [
    "# ソート"
   ]
  },
  {
   "cell_type": "markdown",
   "metadata": {
    "id": "G3tF2GyxTyeF"
   },
   "source": [
    "### 任意の一列で昇順ソート"
   ]
  },
  {
   "cell_type": "code",
   "execution_count": null,
   "metadata": {
    "id": "pGNg2ldhTyeF"
   },
   "outputs": [],
   "source": [
    "# dfのAMT_INCOME_TOTALの列で昇順ソートして表示\n",
    "df = initialize(0)  # 初期化\n",
    "\n"
   ]
  },
  {
   "cell_type": "markdown",
   "metadata": {
    "id": "jQEzWLFHTyeH"
   },
   "source": [
    "### 任意の一列で降順ソート"
   ]
  },
  {
   "cell_type": "code",
   "execution_count": null,
   "metadata": {
    "id": "WZt8n0wFTyeH"
   },
   "outputs": [],
   "source": [
    "# dfのAMT_INCOME_TOTALの列で降順ソート表示\n",
    "df = initialize(0)  # 初期化\n",
    "\n"
   ]
  },
  {
   "cell_type": "markdown",
   "metadata": {
    "id": "IXSPsQ1nTyeI"
   },
   "source": [
    "### 複数列でソート"
   ]
  },
  {
   "cell_type": "code",
   "execution_count": null,
   "metadata": {
    "id": "LKXRdvUQTyeI"
   },
   "outputs": [],
   "source": [
    "# dfのCNT_CHILDRENの列で昇順ソートし、同一CNT_CHILDREN内でAMT_INCOME_TOTALが昇順ソートされるように表示\n",
    "df = initialize(0)  # 初期化\n",
    "\n"
   ]
  },
  {
   "cell_type": "markdown",
   "metadata": {
    "id": "ncIYweq1j1Nz"
   },
   "source": [
    "### Dataframeをランダムに並び替えて、index番号を振り直す"
   ]
  },
  {
   "cell_type": "code",
   "execution_count": null,
   "metadata": {
    "id": "6N-h8i2bj8nb"
   },
   "outputs": [],
   "source": [
    "# dfをランダムに並び替えて、index番号を振り直したものを表示する\n",
    "df = initialize(0)  # 初期化\n",
    "\n"
   ]
  },
  {
   "cell_type": "markdown",
   "metadata": {
    "id": "XUhaI5eogjxu"
   },
   "source": [
    "# 欠損値"
   ]
  },
  {
   "cell_type": "markdown",
   "metadata": {
    "id": "zGWY-n5Oglgt"
   },
   "source": [
    "### 欠損値の確認"
   ]
  },
  {
   "cell_type": "code",
   "execution_count": null,
   "metadata": {
    "id": "ReZddjUWgoyU"
   },
   "outputs": [],
   "source": [
    "# dfの各カラム毎の欠損値数を降順に表示\n",
    "df = initialize(0)  # 初期化\n",
    "\n"
   ]
  },
  {
   "cell_type": "markdown",
   "metadata": {
    "id": "9B6l0Vm8gvLV"
   },
   "source": [
    "### 欠損値を埋める"
   ]
  },
  {
   "cell_type": "code",
   "execution_count": null,
   "metadata": {
    "id": "lbnGaRKUgykU"
   },
   "outputs": [],
   "source": [
    "# OWN_CAR_AGE列の欠損値を文字列型'non-data'に置き換える\n",
    "df = initialize(0)  # 初期化\n",
    "\n"
   ]
  },
  {
   "cell_type": "markdown",
   "metadata": {
    "id": "XnrYLxZqjdAc"
   },
   "source": [
    "### 欠損値があるデータポイントを削除"
   ]
  },
  {
   "cell_type": "code",
   "execution_count": null,
   "metadata": {
    "id": "OBCcBp1kjl1h"
   },
   "outputs": [],
   "source": [
    "# 欠損値が一つでも含まれるデータポイントを削除\n",
    "df = initialize(0)  # 初期化\n",
    "\n"
   ]
  },
  {
   "cell_type": "markdown",
   "metadata": {
    "id": "1hQth9nLkTlU"
   },
   "source": [
    "# 重複データ"
   ]
  },
  {
   "cell_type": "markdown",
   "metadata": {
    "id": "lnZpZ2PzkWGi"
   },
   "source": [
    "### 重複している行数を確認"
   ]
  },
  {
   "cell_type": "code",
   "execution_count": null,
   "metadata": {
    "id": "q1oKvIM7ka5i"
   },
   "outputs": [],
   "source": [
    "# dfのデータポイントで重複している数を出力\n",
    "# ※今回のデータは重複がない\n",
    "df = initialize(0)  # 初期化\n",
    "\n"
   ]
  },
  {
   "cell_type": "code",
   "execution_count": null,
   "metadata": {
    "id": "xRGvVigbkpsK"
   },
   "outputs": [],
   "source": [
    "# dfのデータポイントで重複している行を削除する\n",
    "# ※今回のデータは重複がないので元のdfが返ってくる\n",
    "df = initialize(0)  # 初期化\n",
    "\n"
   ]
  },
  {
   "cell_type": "markdown",
   "metadata": {
    "id": "SLWsAJiAl4ha"
   },
   "source": [
    "# DataFrameの結合"
   ]
  },
  {
   "cell_type": "markdown",
   "metadata": {
    "id": "w8T3749Wo_xX"
   },
   "source": [
    "### 左結合"
   ]
  },
  {
   "cell_type": "code",
   "execution_count": null,
   "metadata": {
    "id": "4XcH01JrpJPT"
   },
   "outputs": [],
   "source": [
    "# dfとaddを結合キーをSK_ID_CURR列として左結合したものを代入する\n",
    "df = initialize(0)      # 初期化\n",
    "add = initialize(1)     # 初期化\n",
    "\n"
   ]
  },
  {
   "cell_type": "markdown",
   "metadata": {
    "id": "_Unyj6fwpkbi"
   },
   "source": [
    "### 内部結合"
   ]
  },
  {
   "cell_type": "code",
   "execution_count": null,
   "metadata": {
    "id": "-nrWMrh5pnpz"
   },
   "outputs": [],
   "source": [
    "# dfとaddを結合キーをSK_ID_CURR列として内部結合したものを代入する\n",
    "df = initialize(0)      # 初期化\n",
    "add = initialize(1)     # 初期化\n",
    "\n"
   ]
  },
  {
   "cell_type": "markdown",
   "metadata": {
    "id": "HWusccQJp5a2"
   },
   "source": [
    "### DataFrameの付け足し"
   ]
  },
  {
   "cell_type": "code",
   "execution_count": null,
   "metadata": {
    "id": "NMTBnl_3prkY"
   },
   "outputs": [],
   "source": [
    "# dfの下にaddを付け加える\n",
    "df = initialize(0)      # 初期化\n",
    "add = initialize(1)     # 初期化\n",
    "\n"
   ]
  },
  {
   "cell_type": "markdown",
   "metadata": {
    "id": "5GJ-dhl3qH2Q"
   },
   "source": [
    "# 統計量"
   ]
  },
  {
   "cell_type": "markdown",
   "metadata": {
    "id": "8aJIdrchqKcq"
   },
   "source": [
    "### 基本統計量"
   ]
  },
  {
   "cell_type": "code",
   "execution_count": null,
   "metadata": {
    "id": "g7ys9c0MqNcJ"
   },
   "outputs": [],
   "source": [
    "# dfのAMT_INCOME_TOTAL列の平均、中央値、合計、最大値、最小値、最頻値をそれぞれ出力\n",
    "df = initialize(0)      # 初期化\n",
    "\n"
   ]
  },
  {
   "cell_type": "markdown",
   "metadata": {
    "id": "tFjoxY98q1mz"
   },
   "source": [
    "### 列内の最大値、最小値のデータポイント取得"
   ]
  },
  {
   "cell_type": "code",
   "execution_count": null,
   "metadata": {
    "id": "dG7AVdxBq-Hm"
   },
   "outputs": [],
   "source": [
    "# dfのAMT_INCOME_TOTAL列の最大値、最小値の行名(index番号)を出力\n",
    "df = initialize(0)      # 初期化\n",
    "\n"
   ]
  },
  {
   "cell_type": "markdown",
   "metadata": {
    "id": "y6Y11jmUqf0h"
   },
   "source": [
    "### 要約統計量"
   ]
  },
  {
   "cell_type": "code",
   "execution_count": null,
   "metadata": {
    "id": "Yiv2Z5wrqoQC"
   },
   "outputs": [],
   "source": [
    "# dfのAMT_INCOME_TOTAL列の要約統計量を出力\n",
    "df = initialize(0)      # 初期化\n",
    "\n"
   ]
  },
  {
   "cell_type": "markdown",
   "metadata": {
    "id": "njgU-Py4qu-D"
   },
   "source": [
    "### 相関係数\n"
   ]
  },
  {
   "cell_type": "code",
   "execution_count": null,
   "metadata": {
    "id": "JZIlMCMTqyK5"
   },
   "outputs": [],
   "source": [
    "# dfの各列間の(Pearson)相関係数を確認\n",
    "df = initialize(0)      # 初期化\n",
    "\n"
   ]
  },
  {
   "cell_type": "markdown",
   "metadata": {
    "id": "1QvYR8TBrQ0x"
   },
   "source": [
    "### 分位点"
   ]
  },
  {
   "cell_type": "code",
   "execution_count": null,
   "metadata": {
    "id": "OSAfh3CprVz9"
   },
   "outputs": [],
   "source": [
    "# dfのAMT_INCOME_TOTAL列の0、25、50、75、100パーセンタイルを取得\n",
    "df = initialize(0)      # 初期化\n",
    "\n"
   ]
  },
  {
   "cell_type": "markdown",
   "metadata": {
    "id": "AevQ38sOrbAR"
   },
   "source": [
    "### groupby"
   ]
  },
  {
   "cell_type": "code",
   "execution_count": null,
   "metadata": {
    "id": "_y6t3Hbtrcx2"
   },
   "outputs": [],
   "source": [
    "# dfのCODE_GENDERでグルーピングして、それぞれのAMT_INCOME_TOTALの最大値を出力\n",
    "df = initialize(0)      # 初期化\n",
    "\n"
   ]
  },
  {
   "cell_type": "code",
   "execution_count": null,
   "metadata": {
    "id": "3B5OP1L19xbI"
   },
   "outputs": [],
   "source": [
    "# dfのCODE_GENDERでグルーピング\n",
    "# さらにCODE_GENDER毎にNAME_CONTRACT_TYPEでグルーピング\n",
    "# 各グループ内の平均と分散を出力\n",
    "# さらに出力を見やすくするためにindexをリセットする\n",
    "df = initialize(0)      # 初期化\n",
    "\n"
   ]
  },
  {
   "cell_type": "markdown",
   "metadata": {
    "id": "XymoKkaMDJbI"
   },
   "source": [
    "### pivot_table"
   ]
  },
  {
   "cell_type": "code",
   "execution_count": null,
   "metadata": {
    "id": "M0UhzSNqDMBv"
   },
   "outputs": [],
   "source": [
    "# indexをCODE_GENDER、columnsをNAME_CONTRACT_TYPEとし、AMT_INCOME_TOTALの平均を集計したpivot tableを作成\n",
    "# 平均にはnp.meanを使用する\n",
    "df = initialize(0)      # 初期化\n",
    "import numpy as np\n",
    "\n"
   ]
  },
  {
   "cell_type": "markdown",
   "metadata": {
    "id": "gPGUBkp8sZZu"
   },
   "source": [
    "# pandas plot"
   ]
  },
  {
   "cell_type": "markdown",
   "metadata": {
    "id": "l05RX40Ssb_t"
   },
   "source": [
    "### ヒストグラム"
   ]
  },
  {
   "cell_type": "code",
   "execution_count": null,
   "metadata": {
    "id": "xm_sVeTUshIy"
   },
   "outputs": [],
   "source": [
    "# dfのAMT_INCOME_TOTAL列のヒストグラムを作成\n",
    "df = initialize(0)      # 初期化\n",
    "\n"
   ]
  },
  {
   "cell_type": "markdown",
   "metadata": {
    "id": "Q3We_l5ds3gc"
   },
   "source": [
    "### 棒グラフ"
   ]
  },
  {
   "cell_type": "code",
   "execution_count": null,
   "metadata": {
    "id": "27YQskqPs6o7"
   },
   "outputs": [],
   "source": [
    "# AMT_INCOME_TOTAL列の最初の10列で棒グラフを作成\n",
    "df = initialize(0)      # 初期化\n",
    "\n"
   ]
  },
  {
   "cell_type": "markdown",
   "metadata": {
    "id": "j6yxzWtEuCL1"
   },
   "source": [
    "### 積み上げ棒グラフ"
   ]
  },
  {
   "cell_type": "code",
   "execution_count": null,
   "metadata": {
    "id": "9V3R13pYuhtV"
   },
   "outputs": [],
   "source": [
    "# FLAG_MOBILL列とCNT_CHILDREN列の先頭15行で積み上げ棒グラフを作成\n",
    "# ※可視化の練習で、グラフに意味はないです\n",
    "df = initialize(0)      # 初期化\n",
    "\n"
   ]
  },
  {
   "cell_type": "markdown",
   "metadata": {
    "id": "kELvNTJBvPJd"
   },
   "source": [
    "### 散布図"
   ]
  },
  {
   "cell_type": "code",
   "execution_count": null,
   "metadata": {
    "id": "SdLeHN2BvRG4"
   },
   "outputs": [],
   "source": [
    "# AMT_INCOME_TOTAL列とREGION_POPULATION_RELATIVE列で散布図を作成\n",
    "df = initialize(0)      # 初期化\n",
    "\n"
   ]
  },
  {
   "cell_type": "markdown",
   "metadata": {
    "id": "zM_xMNsyyKdk"
   },
   "source": [
    "# 日付データ"
   ]
  },
  {
   "cell_type": "markdown",
   "metadata": {
    "id": "w1ZEVLmP4N7f"
   },
   "source": [
    "### datetime型に変換"
   ]
  },
  {
   "cell_type": "code",
   "execution_count": null,
   "metadata": {
    "id": "UafsGd-vyPOC"
   },
   "outputs": [],
   "source": [
    "# df_aのInvoiceDate列をdatatime型に変換する\n",
    "df_a = initialize(2)      # 初期化\n",
    "\n"
   ]
  },
  {
   "cell_type": "markdown",
   "metadata": {
    "id": "2RSK6NS94Ro3"
   },
   "source": [
    "### dateti抽出me型のデータから年月日をそれぞれ抽出"
   ]
  },
  {
   "cell_type": "code",
   "execution_count": null,
   "metadata": {
    "id": "pBxbFb_X3CBI"
   },
   "outputs": [],
   "source": [
    "# df_aのInvoiceDate列からYear、Month、Day列をそれぞれ追加する\n",
    "# df_aは初期化されているのでdatatime型に変換してから取り組んでください\n",
    "df_a = initialize(2)      # 初期化\n",
    "\n"
   ]
  },
  {
   "cell_type": "markdown",
   "metadata": {
    "id": "GG9rRwroYopX"
   },
   "source": [
    "\n",
    "# ファイル出力"
   ]
  },
  {
   "cell_type": "markdown",
   "metadata": {
    "id": "Z42GQ3UWYqzO"
   },
   "source": [
    "### csvファイルに出力"
   ]
  },
  {
   "cell_type": "code",
   "execution_count": null,
   "metadata": {
    "id": "uGkL5qtHYt7z"
   },
   "outputs": [],
   "source": [
    "# dfを行番号、列番号を削除してoutput.csvという名前で出力\n",
    "# 出力先は任意\n",
    "df = initialize(0)      # 初期化\n",
    "\n"
   ]
  },
  {
   "cell_type": "markdown",
   "metadata": {
    "id": "0KFyXaB-D-xU"
   },
   "source": [
    "### pickleファイルに出力"
   ]
  },
  {
   "cell_type": "code",
   "execution_count": null,
   "metadata": {
    "id": "2UTJP59nECpO"
   },
   "outputs": [],
   "source": [
    "# dfを行番号、列番号を削除してsave_df.pllという名前で出力\n",
    "# 出力先は任意\n",
    "df = initialize(0)      # 初期化\n",
    "\n"
   ]
  },
  {
   "cell_type": "markdown",
   "metadata": {
    "id": "paqbG4YYlcC1"
   },
   "source": [
    "# 番外編：文字列変換"
   ]
  },
  {
   "cell_type": "code",
   "execution_count": null,
   "metadata": {
    "id": "UNJaVVDXlhug"
   },
   "outputs": [],
   "source": [
    "# 文字変換\n",
    "df['NAME_CONTRACT_TYPE'].str.upper()      # すべて大文字に\n",
    "df['NAME_CONTRACT_TYPE'].str.lower()      # すべて小文字に\n",
    "df['NAME_CONTRACT_TYPE'].str.rstrip()     # 文字列の右側空白削除\n",
    "df['NAME_CONTRACT_TYPE'].str.strip()      # 文字列の両端空白削除\n",
    "df['NAME_CONTRACT_TYPE'].str.lstrip()     # 文字列の左側空白削除\n",
    "\n",
    "df['NAME_CONTRACT_TYPE'].str.replace('Cash loans', 'Casg')  # 文字の置き換え(Cash loansをCashに置き換える)"
   ]
  }
 ],
 "metadata": {
  "colab": {
   "authorship_tag": "ABX9TyNeUHWddsCV+Tlie8EhbCPJ",
   "collapsed_sections": [],
   "name": "question.ipynb",
   "provenance": [],
   "toc_visible": true
  },
  "kernelspec": {
   "display_name": "Python 3",
   "name": "python3"
  },
  "language_info": {
   "name": "python"
  }
 },
 "nbformat": 4,
 "nbformat_minor": 0
}
